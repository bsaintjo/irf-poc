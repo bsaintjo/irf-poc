{
 "cells": [
  {
   "cell_type": "code",
   "execution_count": 2,
   "metadata": {},
   "outputs": [],
   "source": [
    "import numpy as np\n",
    "from irf import irf_utils\n",
    "from irf.ensemble import RandomForestClassifierWithWeights"
   ]
  },
  {
   "cell_type": "code",
   "execution_count": 3,
   "metadata": {},
   "outputs": [],
   "source": [
    "n_samples = 1000\n",
    "n_features = 10\n",
    "X_train = np.random.uniform(low=0, high=1, size=(n_samples, n_features))\n",
    "y_train = np.random.choice([0, 1], size=(n_samples,), p=[.5, .5])\n",
    "X_test = np.random.uniform(low=0, high=1, size=(n_samples, n_features))\n",
    "y_test = np.random.choice([0, 1], size=(n_samples,), p=[.5, .5])\n",
    "# The second feature (which is indexed by 1) is very important\n",
    "X_train[:, 1] = X_train[:, 1] + y_train\n",
    "X_test[:, 1] = X_test[:, 1] + y_test"
   ]
  },
  {
   "cell_type": "code",
   "execution_count": 8,
   "metadata": {},
   "outputs": [
    {
     "data": {
      "text/plain": [
       "(1000, 10)"
      ]
     },
     "execution_count": 8,
     "metadata": {},
     "output_type": "execute_result"
    }
   ],
   "source": [
    "X_train.shape"
   ]
  },
  {
   "cell_type": "code",
   "execution_count": 4,
   "metadata": {},
   "outputs": [],
   "source": [
    "all_rf_weights, all_K_iter_rf_data, \\\n",
    "    all_rf_bootstrap_output, all_rit_bootstrap_output, \\\n",
    "    stability_score = irf_utils.run_iRF(X_train=X_train,\n",
    "                                        X_test=X_test,\n",
    "                                        y_train=y_train,\n",
    "                                        y_test=y_test,\n",
    "                                        K=5,                          # number of iteration\n",
    "                                        rf = RandomForestClassifierWithWeights(n_estimators=20),\n",
    "                                        B=30,\n",
    "                                        random_state_classifier=2018, # random seed\n",
    "                                        propn_n_samples=.2,\n",
    "                                        bin_class_type=1,\n",
    "                                        M=20,\n",
    "                                        max_depth=5,\n",
    "                                        noisy_split=False,\n",
    "                                        num_splits=2,\n",
    "                                        n_estimators_bootstrap=5)"
   ]
  },
  {
   "cell_type": "code",
   "execution_count": 5,
   "metadata": {},
   "outputs": [
    {
     "name": "stdout",
     "output_type": "stream",
     "text": [
      "[0. 1. 0. 0. 0. 0. 0. 0. 0. 0.]\n"
     ]
    }
   ],
   "source": [
    "print(all_rf_weights['rf_weight5'])"
   ]
  },
  {
   "cell_type": "code",
   "execution_count": 9,
   "metadata": {},
   "outputs": [
    {
     "name": "stdout",
     "output_type": "stream",
     "text": [
      "{'1': 1.0}\n"
     ]
    }
   ],
   "source": [
    "print(stability_score)"
   ]
  },
  {
   "cell_type": "code",
   "execution_count": null,
   "metadata": {},
   "outputs": [],
   "source": []
  }
 ],
 "metadata": {
  "kernelspec": {
   "display_name": ".venv",
   "language": "python",
   "name": "python3"
  },
  "language_info": {
   "codemirror_mode": {
    "name": "ipython",
    "version": 3
   },
   "file_extension": ".py",
   "mimetype": "text/x-python",
   "name": "python",
   "nbconvert_exporter": "python",
   "pygments_lexer": "ipython3",
   "version": "3.8.18"
  }
 },
 "nbformat": 4,
 "nbformat_minor": 2
}
